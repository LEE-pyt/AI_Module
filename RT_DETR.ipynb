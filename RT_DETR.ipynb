{
 "cells": [
  {
   "cell_type": "markdown",
   "metadata": {},
   "source": [
    "# RT-DETR: Real-Time Detection Transformer\n",
    "\n",
    "## 소개\n",
    "\n",
    "**RT-DETR**은 최초의 실시간 엔드-투-엔드 객체 탐지기입니다. 본 연구에서는 **RT-DETR-L**과 **RT-DETR-X** 두 가지 버전의 모델을 제안합니다.\n",
    "\n",
    "## 성능\n",
    "\n",
    "- **RT-DETR-L**은 COCO val2017에서 **53.0% AP**를 달성하며 T4 GPU에서 **114 FPS**의 속도를 보여줍니다.\n",
    "- **RT-DETR-X**는 **54.8% AP**로, 동일한 규모의 YOLO 탐지기들을 속도와 정확도 모두에서 능가합니다.\n",
    "- **RT-DETR-R50**은 **53.1% AP**와 **108 FPS**를 달성하여, DINO-Deformable-DETR-R50 모델을 정확도에서 **2.2% AP**로, 속도에서는 약 **21배** 빠르게 능가합니다.\n",
    "\n",
    "## 비교\n",
    "\n",
    "| 모델 | AP (COCO val2017) | FPS (T4 GPU) | 비고 |\n",
    "| --- | --- | --- | --- |\n",
    "| RT-DETR-L | 53.0% | 114 | - |\n",
    "| RT-DETR-X | 54.8% | 74 | YOLO 탐지기 대비 우수함 |\n",
    "| RT-DETR-R50 | 53.1% | 108 | DINO-Deformable-DETR-R50 대비 우수함 |\n"
   ]
  },
  {
   "cell_type": "markdown",
   "metadata": {},
   "source": [
    "# I. 모델 학습\n",
    "\n",
    "`train_model`, `Convert_Onnx`, `inference`, `convert_labels_to_json` 함수들을 가져옵니다.\n"
   ]
  },
  {
   "cell_type": "code",
   "execution_count": null,
   "metadata": {},
   "outputs": [],
   "source": [
    "import os\n",
    "os.environ['KMP_DUPLICATE_LIB_OK'] = 'TRUE'\n",
    "from RT_DETR_Tool import train_model, Convert_Onnx, inferencer, convert_labels_to_json\n",
    "\n",
    "current_working_directory = os.getcwd()\n",
    "print(current_working_directory)"
   ]
  },
  {
   "cell_type": "markdown",
   "metadata": {},
   "source": [
    "## II. 라벨 데이터 Json화\n",
    "\n",
    "### txt가 들어있는 폴더내에 파일을 모두 검색해서 Json 파일에 로깅합니다.\n",
    "파일 내에 있는 라벨형식은 YOLO 형식입니다 "
   ]
  },
  {
   "cell_type": "code",
   "execution_count": null,
   "metadata": {},
   "outputs": [],
   "source": [
    "classes = {\n",
    "0: 'pin',\n",
    "}\n",
    "# 학습 폴더 Json 변환\n",
    "label_text_files_path = './Dataset/train/labels'\n",
    "output_json_path = './Dataset/train/train_annotations.json'\n",
    "convert_labels_to_json(classes, label_text_files_path, output_json_path)\n",
    "\n",
    "# 평가 폴더 Json 변환\n",
    "label_text_files_path = '/Dataset/valid/labels'\n",
    "output_json_path = '/Dataset/valid/valid_annotations.json'\n",
    "convert_labels_to_json(classes, label_text_files_path, output_json_path)"
   ]
  },
  {
   "cell_type": "markdown",
   "metadata": {},
   "source": [
    "## III. 설정 파일 및 전이학습 모델 설정\n",
    "### 모델 학습을 실시합니다.\n",
    "모델경로를 지정하면 전이학습을 모델을 지정하지 않으면 초기부터 학습을 진행합니다. \n",
    "\n",
    ".\\RT_DETR_util\\configs\\dataset\\Dataset_Config.yml 내에 Class개수를 맞지 않게 설정하면 에러가 발생합니다."
   ]
  },
  {
   "cell_type": "code",
   "execution_count": null,
   "metadata": {},
   "outputs": [],
   "source": [
    "yml_path = \"./RT_DETR_util/configs/rtdetr/rtdetr_r18vd_6x_coco.yml\"\n",
    "model_path = \"./output/rtdetr_r18vd_6x/2024-02-07_10-04-01/best.pt\"\n",
    "\n",
    "if __name__ == \"__main__\":\n",
    "    train_model(yml_path, model_path)"
   ]
  },
  {
   "cell_type": "markdown",
   "metadata": {},
   "source": [
    "## VI. ONNX 변환\n",
    "### PT 파일을 ONNX 모델로 변환합니다\n",
    "yml 파일내의 class(nc)의 개수를 잘못 설정하면 에러가 발생합니다."
   ]
  },
  {
   "cell_type": "code",
   "execution_count": null,
   "metadata": {},
   "outputs": [],
   "source": [
    "model_path = \"./output/rtdetr_r18vd_6x/2024-02-07_10-04-01/best.pt\"\n",
    "yml_path = \"./RT_DETR_util/configs/rtdetr/rtdetr_r18vd_6x_coco.yml\"\n",
    "Convert_Onnx(yml_path, model_path)"
   ]
  },
  {
   "cell_type": "markdown",
   "metadata": {},
   "source": [
    "## VII. 모델 추론\n",
    "### onnx 모델을 이용하여 추론을 실시 합니다.\n",
    "경로의 파일을 모두읽어 추론하는 모드와 이미지 하나만 추론하는 모드가 있습니다."
   ]
  },
  {
   "cell_type": "code",
   "execution_count": null,
   "metadata": {},
   "outputs": [],
   "source": [
    "image_path = './image/000000000143.jpg'\n",
    "onnx_path  = \"./output/rtdetr_r18vd_6x/2024-02-07_09-06-02/onnx_model/best.onnx\"\n",
    "\n",
    "inferencer(image_path, onnx_path, thrh= 0.5, mode=False)\n"
   ]
  }
 ],
 "metadata": {
  "kernelspec": {
   "display_name": "base",
   "language": "python",
   "name": "python3"
  },
  "language_info": {
   "codemirror_mode": {
    "name": "ipython",
    "version": 3
   },
   "file_extension": ".py",
   "mimetype": "text/x-python",
   "name": "python",
   "nbconvert_exporter": "python",
   "pygments_lexer": "ipython3",
   "version": "3.11.5"
  }
 },
 "nbformat": 4,
 "nbformat_minor": 2
}
